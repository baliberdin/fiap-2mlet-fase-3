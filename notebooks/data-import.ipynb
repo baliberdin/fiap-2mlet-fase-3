{
 "cells": [
  {
   "cell_type": "markdown",
   "metadata": {},
   "source": [
    "# Notebook para restaurar os dados de Avaliações e Livros da Amazon.\n",
    "### Fonte: https://www.kaggle.com/datasets/saurabhbagchi/books-dataset/data\n",
    "O objetivo é restaurar esses dados em um banco relacional com os dados de Livros, Usuários e as Avaliações e em seguida criar um modelo de recomendação em cima desses dados.\n",
    "\n",
    "Os dados estão divididos em 2 CSVs, um de livros (books.csv) e outro de avaliações (ratings.csv). A união desses dois datasets, segundo a documentação do dataset, é pelo título do livro. O título não é uma boa chave para a relação desses dois dados, o mais indicado seria utilizar o ISBN, mas os dados de livros não possui essa informação. Farei o possívei para deixar os dados minimamente utilizáveis.\n",
    "\n",
    "Não é necessário rodar esse notebook novamente, os dados serão gravados em um MySQL e depois um Dump com os dados em SQL será colocado no caminho mysql/db_backup.sql desse projeto."
   ]
  },
  {
   "cell_type": "code",
   "execution_count": 2,
   "metadata": {},
   "outputs": [],
   "source": [
    "from pyspark.sql import SparkSession"
   ]
  },
  {
   "cell_type": "markdown",
   "metadata": {},
   "source": [
    "# Inicia o Spark"
   ]
  },
  {
   "cell_type": "code",
   "execution_count": 3,
   "metadata": {},
   "outputs": [
    {
     "name": "stderr",
     "output_type": "stream",
     "text": [
      "Setting default log level to \"WARN\".\n",
      "To adjust logging level use sc.setLogLevel(newLevel). For SparkR, use setLogLevel(newLevel).\n",
      "24/12/16 16:17:21 WARN NativeCodeLoader: Unable to load native-hadoop library for your platform... using builtin-java classes where applicable\n",
      "24/12/16 16:17:22 WARN Utils: Service 'SparkUI' could not bind on port 4040. Attempting port 4041.\n"
     ]
    }
   ],
   "source": [
    "spark_executor_cores = \"8\"\n",
    "\n",
    "spark = SparkSession.builder \\\n",
    "    .config(\"spark.driver.extraClassPath\", \"../lib/mysql-connector-j-9.1.0.jar\") \\\n",
    "    .config(\"spark.executors.core\", spark_executor_cores) \\\n",
    "    .appName('SparkByExamples.com') \\\n",
    "    .getOrCreate()"
   ]
  },
  {
   "cell_type": "markdown",
   "metadata": {},
   "source": [
    "# Faz a leitura dos dados de Avaliações dos Livros a partir do CSV"
   ]
  },
  {
   "cell_type": "code",
   "execution_count": 15,
   "metadata": {},
   "outputs": [],
   "source": [
    "spark.read.option(\"header\",\"true\").option(\"delimiter\",\";\").option(\"escape\",'\"').csv(\"../datasets/books/ratings.csv\").createOrReplaceTempView(\"tmp_ratings\")"
   ]
  },
  {
   "cell_type": "code",
   "execution_count": 16,
   "metadata": {},
   "outputs": [
    {
     "name": "stdout",
     "output_type": "stream",
     "text": [
      "+-------+----------+-----------+\n",
      "|User-ID|      ISBN|Book-Rating|\n",
      "+-------+----------+-----------+\n",
      "| 276725|034545104X|          0|\n",
      "| 276726|0155061224|          5|\n",
      "| 276727|0446520802|          0|\n",
      "| 276729|052165615X|          3|\n",
      "| 276729|0521795028|          6|\n",
      "+-------+----------+-----------+\n",
      "only showing top 5 rows\n",
      "\n"
     ]
    }
   ],
   "source": [
    "spark.sql(\"select * from tmp_ratings\").show(5, True)"
   ]
  },
  {
   "cell_type": "markdown",
   "metadata": {},
   "source": [
    "### Tratamento de colunas, valores e metadado"
   ]
  },
  {
   "cell_type": "code",
   "execution_count": 22,
   "metadata": {},
   "outputs": [],
   "source": [
    "spark.sql(\"\"\"\n",
    "    SELECT \n",
    "        ISBN as isbn,\n",
    "        `User-id` as user_id,\n",
    "        `Book-Rating` as review_score\n",
    "    FROM tmp_ratings\n",
    "\"\"\").createOrReplaceTempView(\"tmp_reviews_parsed\")"
   ]
  },
  {
   "cell_type": "code",
   "execution_count": 23,
   "metadata": {},
   "outputs": [
    {
     "name": "stdout",
     "output_type": "stream",
     "text": [
      "+----------+-------+------------+\n",
      "|isbn      |user_id|review_score|\n",
      "+----------+-------+------------+\n",
      "|034545104X|276725 |0           |\n",
      "|0155061224|276726 |5           |\n",
      "|0446520802|276727 |0           |\n",
      "|052165615X|276729 |3           |\n",
      "|0521795028|276729 |6           |\n",
      "+----------+-------+------------+\n",
      "only showing top 5 rows\n",
      "\n"
     ]
    }
   ],
   "source": [
    "spark.sql(\"select * from tmp_reviews_parsed\").show(5, False)"
   ]
  },
  {
   "cell_type": "markdown",
   "metadata": {},
   "source": [
    "### Verificando as repetições de títulos e ISBNs\n",
    "Embora tenhamos muitos títulos repetidos eles possuem ISBNs diferentes e suas próprias avaliações. Isso pode ser um erro da base ou são realmente livros com edições/revisões diferentes "
   ]
  },
  {
   "cell_type": "code",
   "execution_count": 25,
   "metadata": {},
   "outputs": [
    {
     "name": "stderr",
     "output_type": "stream",
     "text": [
      "[Stage 21:=======>                                                  (1 + 7) / 8]\r"
     ]
    },
    {
     "name": "stdout",
     "output_type": "stream",
     "text": [
      "+----------+-----+------------------+\n",
      "|isbn      |total|score             |\n",
      "+----------+-----+------------------+\n",
      "|0971880107|2502 |1.0195843325339728|\n",
      "|0316666343|1295 |4.468725868725869 |\n",
      "|0385504209|883  |4.652321630804077 |\n",
      "|0060928336|732  |3.448087431693989 |\n",
      "|0312195516|723  |4.334716459197787 |\n",
      "|044023722X|647  |3.187017001545595 |\n",
      "|0679781587|639  |4.381846635367762 |\n",
      "|0142001740|615  |4.219512195121951 |\n",
      "|067976402X|614  |3.255700325732899 |\n",
      "|0671027360|586  |3.718430034129693 |\n",
      "|0446672211|585  |4.105982905982906 |\n",
      "|059035342X|571  |4.900175131348512 |\n",
      "|0316601950|568  |3.5933098591549295|\n",
      "|0375727345|552  |3.039855072463768 |\n",
      "|044021145X|529  |3.0756143667296785|\n",
      "|0452282152|526  |4.218631178707224 |\n",
      "|0440214041|523  |2.5239005736137665|\n",
      "|0804106304|519  |3.0635838150289016|\n",
      "|0440211727|517  |2.97678916827853  |\n",
      "|0345337662|506  |3.535573122529644 |\n",
      "+----------+-----+------------------+\n",
      "only showing top 20 rows\n",
      "\n"
     ]
    },
    {
     "name": "stderr",
     "output_type": "stream",
     "text": [
      "                                                                                \r"
     ]
    }
   ],
   "source": [
    "spark.sql(\"select isbn, count(1) as total, avg(review_score) as score from tmp_reviews_parsed group by 1 order by 2 desc\").show(20, False)"
   ]
  },
  {
   "cell_type": "markdown",
   "metadata": {},
   "source": [
    "### Verificando a variação de usuários e média de reviews por usuário"
   ]
  },
  {
   "cell_type": "code",
   "execution_count": 26,
   "metadata": {},
   "outputs": [
    {
     "name": "stderr",
     "output_type": "stream",
     "text": [
      "[Stage 24:==============>                                           (2 + 6) / 8]\r"
     ]
    },
    {
     "name": "stdout",
     "output_type": "stream",
     "text": [
      "+-------+------+------+------------------+\n",
      "|  lines| isbns| users|   avg_user_review|\n",
      "+-------+------+------+------------------+\n",
      "|1149780|340556|105283|10.920851419507423|\n",
      "+-------+------+------+------------------+\n",
      "\n"
     ]
    },
    {
     "name": "stderr",
     "output_type": "stream",
     "text": [
      "                                                                                \r"
     ]
    }
   ],
   "source": [
    "spark.sql(\"select count(1) as lines, count(distinct isbn) as isbns, count(distinct User_id) as users, count(1)/count(distinct User_id) as avg_user_review from tmp_reviews_parsed\").show()"
   ]
  },
  {
   "cell_type": "markdown",
   "metadata": {},
   "source": [
    "# Faz a leitura os dados dos Livros a partir do CSV"
   ]
  },
  {
   "cell_type": "code",
   "execution_count": 78,
   "metadata": {},
   "outputs": [],
   "source": [
    "spark.read.option(\"header\",\"true\").option(\"delimiter\",\";\").csv(\"../datasets/books/books.csv\").createOrReplaceTempView(\"tmp_books\")"
   ]
  },
  {
   "cell_type": "code",
   "execution_count": 79,
   "metadata": {},
   "outputs": [
    {
     "name": "stdout",
     "output_type": "stream",
     "text": [
      "+----------+--------------------------------------------------------------------------------------------------+--------------------+-------------------+--------------------------+------------------------------------------------------------+------------------------------------------------------------+------------------------------------------------------------+\n",
      "|ISBN      |Book-Title                                                                                        |Book-Author         |Year-Of-Publication|Publisher                 |Image-URL-S                                                 |Image-URL-M                                                 |Image-URL-L                                                 |\n",
      "+----------+--------------------------------------------------------------------------------------------------+--------------------+-------------------+--------------------------+------------------------------------------------------------+------------------------------------------------------------+------------------------------------------------------------+\n",
      "|0195153448|Classical Mythology                                                                               |Mark P. O. Morford  |2002               |Oxford University Press   |http://images.amazon.com/images/P/0195153448.01.THUMBZZZ.jpg|http://images.amazon.com/images/P/0195153448.01.MZZZZZZZ.jpg|http://images.amazon.com/images/P/0195153448.01.LZZZZZZZ.jpg|\n",
      "|0002005018|Clara Callan                                                                                      |Richard Bruce Wright|2001               |HarperFlamingo Canada     |http://images.amazon.com/images/P/0002005018.01.THUMBZZZ.jpg|http://images.amazon.com/images/P/0002005018.01.MZZZZZZZ.jpg|http://images.amazon.com/images/P/0002005018.01.LZZZZZZZ.jpg|\n",
      "|0060973129|Decision in Normandy                                                                              |Carlo D'Este        |1991               |HarperPerennial           |http://images.amazon.com/images/P/0060973129.01.THUMBZZZ.jpg|http://images.amazon.com/images/P/0060973129.01.MZZZZZZZ.jpg|http://images.amazon.com/images/P/0060973129.01.LZZZZZZZ.jpg|\n",
      "|0374157065|Flu: The Story of the Great Influenza Pandemic of 1918 and the Search for the Virus That Caused It|Gina Bari Kolata    |1999               |Farrar Straus Giroux      |http://images.amazon.com/images/P/0374157065.01.THUMBZZZ.jpg|http://images.amazon.com/images/P/0374157065.01.MZZZZZZZ.jpg|http://images.amazon.com/images/P/0374157065.01.LZZZZZZZ.jpg|\n",
      "|0393045218|The Mummies of Urumchi                                                                            |E. J. W. Barber     |1999               |W. W. Norton &amp; Company|http://images.amazon.com/images/P/0393045218.01.THUMBZZZ.jpg|http://images.amazon.com/images/P/0393045218.01.MZZZZZZZ.jpg|http://images.amazon.com/images/P/0393045218.01.LZZZZZZZ.jpg|\n",
      "+----------+--------------------------------------------------------------------------------------------------+--------------------+-------------------+--------------------------+------------------------------------------------------------+------------------------------------------------------------+------------------------------------------------------------+\n",
      "only showing top 5 rows\n",
      "\n"
     ]
    }
   ],
   "source": [
    "spark.sql(\"select * from tmp_books\").show(5, False)"
   ]
  },
  {
   "cell_type": "markdown",
   "metadata": {},
   "source": [
    "## Faz o tratamento das colunas"
   ]
  },
  {
   "cell_type": "code",
   "execution_count": 80,
   "metadata": {},
   "outputs": [],
   "source": [
    "spark.sql(\"\"\"\n",
    "    SELECT\n",
    "        UPPER(ISBN) as isbn,\n",
    "        `Book-Title` as title,\n",
    "        REGEXP_REPLACE(`Book-Author`,'[\\\\\\[\\\\\\]\\\\\\']','') as author,\n",
    "        `Image-URL-L` as image_url,\n",
    "        publisher,\n",
    "        `Year-Of-Publication` as publication_year\n",
    "    FROM\n",
    "        tmp_books\n",
    "\"\"\").createOrReplaceTempView(\"tmp_books_parsed\")"
   ]
  },
  {
   "cell_type": "code",
   "execution_count": 81,
   "metadata": {},
   "outputs": [
    {
     "name": "stdout",
     "output_type": "stream",
     "text": [
      "+----------+--------------------+-------------------+--------------------+-------------+----------------+\n",
      "|      isbn|               title|             author|           image_url|    publisher|publication_year|\n",
      "+----------+--------------------+-------------------+--------------------+-------------+----------------+\n",
      "|085409878X|\"Pie-powder\"; bei...|John Alderson Foote|http://images.ama...|EP Publishing|            1973|\n",
      "+----------+--------------------+-------------------+--------------------+-------------+----------------+\n",
      "\n"
     ]
    }
   ],
   "source": [
    "spark.sql(\"select * from tmp_books_parsed where isbn = '085409878X'\").show(5, True)"
   ]
  },
  {
   "cell_type": "markdown",
   "metadata": {},
   "source": [
    "### Verifica duplicidades no Título"
   ]
  },
  {
   "cell_type": "code",
   "execution_count": 82,
   "metadata": {},
   "outputs": [
    {
     "name": "stdout",
     "output_type": "stream",
     "text": [
      "+------+------+---------+\n",
      "| lines|titles|no_titles|\n",
      "+------+------+---------+\n",
      "|271379|242154|     NULL|\n",
      "+------+------+---------+\n",
      "\n"
     ]
    }
   ],
   "source": [
    "spark.sql(\"select count(1) as lines, count(distinct title) as titles, SUM(case when title is null then 1 end) as no_titles from tmp_books_parsed\").show(10, True)"
   ]
  },
  {
   "cell_type": "code",
   "execution_count": 83,
   "metadata": {},
   "outputs": [
    {
     "name": "stdout",
     "output_type": "stream",
     "text": [
      "+-----------------+-----+\n",
      "|title            |lines|\n",
      "+-----------------+-----+\n",
      "|Selected Poems   |27   |\n",
      "|Little Women     |24   |\n",
      "|Wuthering Heights|21   |\n",
      "|The Secret Garden|20   |\n",
      "|Dracula          |20   |\n",
      "+-----------------+-----+\n",
      "only showing top 5 rows\n",
      "\n"
     ]
    }
   ],
   "source": [
    "spark.sql(\"select title, count(1) as lines from tmp_books_parsed group by 1 order by lines desc\").show(5, False)"
   ]
  },
  {
   "cell_type": "markdown",
   "metadata": {},
   "source": [
    "# Verifica a relação entre os Livros e as Avaliações\n",
    "Precisamos saber se todas as avaliações serão ligadas com os seus respectivos livros"
   ]
  },
  {
   "cell_type": "code",
   "execution_count": 84,
   "metadata": {},
   "outputs": [
    {
     "name": "stderr",
     "output_type": "stream",
     "text": [
      "[Stage 143:==========================================>              (6 + 2) / 8]\r"
     ]
    },
    {
     "name": "stdout",
     "output_type": "stream",
     "text": [
      "+------------+-----------+-------+------------+-----------+--------+\n",
      "|review_lines|books_lines|reviews|unique_isbns|book_titles|no_books|\n",
      "+------------+-----------+-------+------------+-----------+--------+\n",
      "|1163192     |1044068    |1163192|340556      |241005     |119124  |\n",
      "+------------+-----------+-------+------------+-----------+--------+\n",
      "\n"
     ]
    },
    {
     "name": "stderr",
     "output_type": "stream",
     "text": [
      "                                                                                \r"
     ]
    }
   ],
   "source": [
    "spark.sql(\"\"\"\n",
    "          select\n",
    "            count(1) as review_lines,\n",
    "            count(b.title) as books_lines,\n",
    "            count(r.isbn) as reviews,\n",
    "            count(DISTINCT r.isbn) as unique_isbns,\n",
    "            count(distinct b.title) as book_titles,\n",
    "            sum(case when b.title is null then 1 end) as no_books\n",
    "          from tmp_reviews_parsed r\n",
    "          left join tmp_books_parsed b\n",
    "            on b.isbn = r.isbn\n",
    "\"\"\").show(10, False)"
   ]
  },
  {
   "cell_type": "markdown",
   "metadata": {},
   "source": [
    "# Escreve os Livros no banco transactional"
   ]
  },
  {
   "cell_type": "code",
   "execution_count": 92,
   "metadata": {},
   "outputs": [
    {
     "name": "stderr",
     "output_type": "stream",
     "text": [
      "                                                                                \r"
     ]
    }
   ],
   "source": [
    "spark.sql(\"\"\"\n",
    "    SELECT \n",
    "        *\n",
    "    FROM\n",
    "        (select \n",
    "            b.isbn,\n",
    "            b.title,\n",
    "            b.author,\n",
    "            b.publication_year,\n",
    "            b.publisher,\n",
    "            b.image_url,\n",
    "            SUM(1) OVER (PARTITION BY b.isbn ROWS UNBOUNDED PRECEDING) AS indx\n",
    "        from tmp_books_parsed b \n",
    "            left join tmp_reviews_parsed r\n",
    "            on r.isbn = b.isbn\n",
    "        where \n",
    "            b.title is not null and r.isbn is not null\n",
    "        group by\n",
    "            1,2,3,4,5,6\n",
    "        ) as t\n",
    "    WHERE indx = 1\n",
    "\"\"\").drop(\"indx\").repartition(1).write \\\n",
    "    .format(\"jdbc\") \\\n",
    "    .option(\"url\", \"jdbc:mysql://localhost:3306\") \\\n",
    "    .option(\"dbtable\", \"book_store.books\") \\\n",
    "    .option(\"user\", \"book_store\") \\\n",
    "    .option(\"password\", \"1234\") \\\n",
    "    .mode(\"append\") \\\n",
    "    .save()"
   ]
  },
  {
   "cell_type": "markdown",
   "metadata": {},
   "source": [
    "# Extrai os usuários dos dados de Avaliações"
   ]
  },
  {
   "cell_type": "markdown",
   "metadata": {},
   "source": [
    "### Cria IDs numéricos para os usuários e utiliza o hash como username"
   ]
  },
  {
   "cell_type": "code",
   "execution_count": 93,
   "metadata": {},
   "outputs": [],
   "source": [
    "spark.sql(\"\"\"\n",
    "    select \n",
    "        RANK() OVER (PARTITION BY 1 ORDER BY user_id) as id,\n",
    "        user_id AS username\n",
    "    FROM\n",
    "        tmp_reviews_parsed\n",
    "    WHERE\n",
    "        user_id is not null\n",
    "    group by\n",
    "        2\n",
    "\"\"\").createOrReplaceTempView(\"tmp_users\")"
   ]
  },
  {
   "cell_type": "code",
   "execution_count": 94,
   "metadata": {},
   "outputs": [
    {
     "name": "stdout",
     "output_type": "stream",
     "text": [
      "+---+--------+\n",
      "|id |username|\n",
      "+---+--------+\n",
      "|1  |10      |\n",
      "|2  |100     |\n",
      "|3  |1000    |\n",
      "|4  |100001  |\n",
      "|5  |100002  |\n",
      "+---+--------+\n",
      "only showing top 5 rows\n",
      "\n"
     ]
    }
   ],
   "source": [
    "spark.sql(\"select * from tmp_users\").show(5, False)"
   ]
  },
  {
   "cell_type": "markdown",
   "metadata": {},
   "source": [
    "### Verifica se não há duplicidades"
   ]
  },
  {
   "cell_type": "code",
   "execution_count": 95,
   "metadata": {},
   "outputs": [
    {
     "name": "stdout",
     "output_type": "stream",
     "text": [
      "+------+------+------+\n",
      "| lines|   ids| names|\n",
      "+------+------+------+\n",
      "|105283|105283|105283|\n",
      "+------+------+------+\n",
      "\n"
     ]
    }
   ],
   "source": [
    "spark.sql(\"select count(1) as lines, count(distinct id) as ids, count(distinct username) as names from tmp_users\").show()"
   ]
  },
  {
   "cell_type": "markdown",
   "metadata": {},
   "source": [
    "### Escreve os dados de usuários no banco relacional"
   ]
  },
  {
   "cell_type": "code",
   "execution_count": 96,
   "metadata": {},
   "outputs": [
    {
     "name": "stderr",
     "output_type": "stream",
     "text": [
      "                                                                                \r"
     ]
    }
   ],
   "source": [
    "spark.sql(\"\"\"\n",
    "    select \n",
    "        id,\n",
    "        username\n",
    "    from tmp_users\n",
    "    where\n",
    "        id is not null\n",
    "\"\"\").write \\\n",
    "    .format(\"jdbc\") \\\n",
    "    .option(\"url\", \"jdbc:mysql://localhost:3306\") \\\n",
    "    .option(\"dbtable\", \"book_store.users\") \\\n",
    "    .option(\"user\", \"book_store\") \\\n",
    "    .option(\"password\", \"1234\") \\\n",
    "    .mode(\"append\") \\\n",
    "    .save()"
   ]
  },
  {
   "cell_type": "markdown",
   "metadata": {},
   "source": [
    "## Verifica duplicidades de Avaliações"
   ]
  },
  {
   "cell_type": "code",
   "execution_count": 99,
   "metadata": {},
   "outputs": [],
   "source": [
    "spark.sql(\"\"\"\n",
    "    select\n",
    "        r.isbn,\n",
    "        u.id as user_id,\n",
    "        review_score as rating\n",
    "        -- review_time \n",
    "    from tmp_reviews_parsed r\n",
    "        left join tmp_users u on u.username = r.user_id \n",
    "        left join tmp_books_parsed b on b.isbn = r.isbn\n",
    "    where \n",
    "        r.isbn is not null and u.id is not null and b.title is not null\n",
    "\"\"\").createOrReplaceTempView(\"tmp_db_ratings\")"
   ]
  },
  {
   "cell_type": "code",
   "execution_count": 100,
   "metadata": {},
   "outputs": [
    {
     "name": "stderr",
     "output_type": "stream",
     "text": [
      "                                                                                \r"
     ]
    },
    {
     "name": "stdout",
     "output_type": "stream",
     "text": [
      "+-------+-----+------+-------+\n",
      "|  lines|users| isbns|   keys|\n",
      "+-------+-----+------+-------+\n",
      "|1044068|92092|269764|1030656|\n",
      "+-------+-----+------+-------+\n",
      "\n"
     ]
    }
   ],
   "source": [
    "spark.sql(\"\"\"\n",
    "    select \n",
    "        count(1) as lines, \n",
    "        count(distinct user_id) as users, \n",
    "        count(distinct isbn) as isbns,\n",
    "        count(distinct isbn || user_id) as keys \n",
    "    from tmp_db_ratings\n",
    "\"\"\").show()"
   ]
  },
  {
   "cell_type": "code",
   "execution_count": 102,
   "metadata": {},
   "outputs": [
    {
     "name": "stderr",
     "output_type": "stream",
     "text": [
      "[Stage 269:=======>                                                 (1 + 7) / 8]\r"
     ]
    },
    {
     "name": "stdout",
     "output_type": "stream",
     "text": [
      "+-----------------+------------+\n",
      "|              key|duplications|\n",
      "+-----------------+------------+\n",
      "| 002542730X_66897|           2|\n",
      "| 033026012X_57922|           2|\n",
      "| 031242227X_75232|           2|\n",
      "| 002089130X_12747|           2|\n",
      "| 044651652X_76667|           2|\n",
      "| 042516828X_83678|           2|\n",
      "| 006091291X_77502|           2|\n",
      "|000649840X_101080|           2|\n",
      "| 080410753X_78240|           2|\n",
      "| 080211671X_77040|           2|\n",
      "| 031242227X_77435|           2|\n",
      "| 080410526X_68165|           2|\n",
      "| 067976402X_66626|           2|\n",
      "| 059035342X_54772|           2|\n",
      "| 043935806X_83737|           2|\n",
      "| 080410526X_75939|           2|\n",
      "| 051513449X_67931|           2|\n",
      "|074322535X_104237|           2|\n",
      "| 044022103X_89520|           2|\n",
      "| 044651862X_27425|           2|\n",
      "+-----------------+------------+\n",
      "only showing top 20 rows\n",
      "\n"
     ]
    },
    {
     "name": "stderr",
     "output_type": "stream",
     "text": [
      "                                                                                \r"
     ]
    }
   ],
   "source": [
    "spark.sql(\"\"\"\n",
    "    select \n",
    "        isbn ||'_' ||user_id as key,\n",
    "        count(1) as duplications\n",
    "    from tmp_db_ratings\n",
    "    group by 1\n",
    "    order by 2 desc\n",
    "\"\"\").show()"
   ]
  },
  {
   "cell_type": "code",
   "execution_count": 106,
   "metadata": {},
   "outputs": [
    {
     "name": "stdout",
     "output_type": "stream",
     "text": [
      "+-----+--------+\n",
      "|   id|username|\n",
      "+-----+--------+\n",
      "|66897|   25981|\n",
      "+-----+--------+\n",
      "\n"
     ]
    }
   ],
   "source": [
    "spark.sql(\"select * from tmp_users where id = 66897\").show()"
   ]
  },
  {
   "cell_type": "code",
   "execution_count": 110,
   "metadata": {},
   "outputs": [
    {
     "name": "stdout",
     "output_type": "stream",
     "text": [
      "+----------+-------+------+\n",
      "|isbn      |user_id|rating|\n",
      "+----------+-------+------+\n",
      "|002542730X|66897  |0     |\n",
      "|002542730X|66897  |0     |\n",
      "+----------+-------+------+\n",
      "\n"
     ]
    }
   ],
   "source": [
    "spark.sql(\"\"\"\n",
    "    select * from tmp_db_ratings where isbn = '002542730X' and user_id = 66897\n",
    "\"\"\").show(10, False)"
   ]
  },
  {
   "cell_type": "markdown",
   "metadata": {},
   "source": [
    "# Escreve as Avaliações no banco de dados"
   ]
  },
  {
   "cell_type": "code",
   "execution_count": 111,
   "metadata": {},
   "outputs": [
    {
     "name": "stderr",
     "output_type": "stream",
     "text": [
      "                                                                                \r"
     ]
    }
   ],
   "source": [
    "spark.sql(\"\"\"\n",
    "    select\n",
    "        isbn,\n",
    "        user_id,\n",
    "        rating\n",
    "        -- review_time as created_at\n",
    "    from\n",
    "        (select \n",
    "            *,\n",
    "            SUM(1) OVER(PARTITION BY isbn,r.user_id ROWS UNBOUNDED PRECEDING) as indx\n",
    "        from tmp_db_ratings r\n",
    "        ) as t\n",
    "    where\n",
    "        indx = 1\n",
    "\"\"\").drop('indx').write \\\n",
    "    .format(\"jdbc\") \\\n",
    "    .option(\"url\", \"jdbc:mysql://localhost:3306\") \\\n",
    "    .option(\"dbtable\", \"book_store.ratings\") \\\n",
    "    .option(\"user\", \"book_store\") \\\n",
    "    .option(\"password\", \"1234\") \\\n",
    "    .mode(\"append\") \\\n",
    "    .save()"
   ]
  },
  {
   "cell_type": "code",
   "execution_count": null,
   "metadata": {},
   "outputs": [],
   "source": []
  }
 ],
 "metadata": {
  "kernelspec": {
   "display_name": ".venv",
   "language": "python",
   "name": "python3"
  },
  "language_info": {
   "codemirror_mode": {
    "name": "ipython",
    "version": 3
   },
   "file_extension": ".py",
   "mimetype": "text/x-python",
   "name": "python",
   "nbconvert_exporter": "python",
   "pygments_lexer": "ipython3",
   "version": "3.10.15"
  }
 },
 "nbformat": 4,
 "nbformat_minor": 2
}
